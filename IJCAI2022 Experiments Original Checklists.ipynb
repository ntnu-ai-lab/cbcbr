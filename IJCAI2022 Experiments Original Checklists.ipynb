{
 "cells": [
  {
   "cell_type": "markdown",
   "metadata": {},
   "source": [
    "# SETUP"
   ]
  },
  {
   "cell_type": "code",
   "execution_count": 1,
   "metadata": {},
   "outputs": [],
   "source": [
    "from requests import get\n",
    "import requests\n",
    "import pandas as pd\n",
    "import numpy as np\n",
    "import seaborn as sns\n",
    "import matplotlib.pyplot as plt\n",
    "import datetime\n",
    "from IPython.display import HTML\n",
    "import pyodbc\n",
    "import time\n",
    "from sklearn.linear_model import LogisticRegression\n",
    "\n",
    "from pandas.io.json import json_normalize"
   ]
  },
  {
   "cell_type": "code",
   "execution_count": 2,
   "metadata": {},
   "outputs": [],
   "source": [
    "from mycbr_py_api import MyCBRRestApi as mycbr"
   ]
  },
  {
   "cell_type": "markdown",
   "metadata": {},
   "source": [
    "# Methods"
   ]
  },
  {
   "cell_type": "code",
   "execution_count": 3,
   "metadata": {},
   "outputs": [],
   "source": [
    "casebase=list()\n",
    "initCBCopy=casebase\n",
    "currentCBCopy=casebase\n",
    "\n",
    "\n",
    "#Retrieves data for the experiment\n",
    "data00=()\n",
    "def readData():\n",
    "    global data00\n",
    "    cnxn = pyodbc.connect('DRIVER={SQL Server Native Client 11.0};SERVER=localhost;DATABASE=RisikoIndeksTjenesten;Trusted_Connection=yes;')\n",
    "    cursor = cnxn.cursor()\n",
    "    data00=pd.read_sql(\"SELECT  * \"+\"FROM [RisikoIndeksTjenesten].[dbo].[BayesianDynamicChecklistLocalDb]\"+\n",
    "                      \"left join (select NewID() as new, InspectionId as inspID from [RisikoIndeksTjenesten].[dbo].[BayesianDynamicChecklistLocalDb] group by InspectionId) as a on a.inspId=InspectionId\"+\n",
    "                      \" where InspectionDateId<20190601 ORDER BY new\",cnxn)\n",
    "    #Query selects items in random order, grouped by the inspectionIDs. \n",
    "    #We are doing crossvalidation with random split based on the indices of the retrieved items.\n",
    "\n",
    "#create dataframe for evaluating existing checklists\n",
    "def fillCaseBase(splitindex):\n",
    "    global casebase\n",
    "    global data00\n",
    "\n",
    "    data0=data00\n",
    "    datatestout=data0.loc[round((len(data0)/8)*splitindex):round((len(data0)/8)*(splitindex+1))]\n",
    "\n",
    "    casebase=datatestout\n",
    "    \n",
    "\n",
    "#Restores the data to original form\n",
    "def restoreOriginalCaseBase(splitindex):\n",
    "    fillCaseBase(splitindex)\n",
    "    #return res;\n"
   ]
  },
  {
   "cell_type": "markdown",
   "metadata": {},
   "source": [
    "# EXPERIMENT, STATISTICS FOR GENERATED CHECKLISTS"
   ]
  },
  {
   "cell_type": "code",
   "execution_count": 6,
   "metadata": {
    "scrolled": false
   },
   "outputs": [
    {
     "name": "stdout",
     "output_type": "stream",
     "text": [
      "Train time: 0.0\n"
     ]
    },
    {
     "name": "stderr",
     "output_type": "stream",
     "text": [
      "<ipython-input-6-d90cac3f0bbc>:56: FutureWarning: Passing a negative integer is deprecated in version 1.0 and will not be supported in future version. Instead, use None to not limit the column width.\n",
      "  pd.set_option('display.max_colwidth', -1)\n",
      "<ipython-input-6-d90cac3f0bbc>:61: SettingWithCopyWarning: \n",
      "A value is trying to be set on a copy of a slice from a DataFrame.\n",
      "Try using .loc[row_indexer,col_indexer] = value instead\n",
      "\n",
      "See the caveats in the documentation: https://pandas.pydata.org/pandas-docs/stable/user_guide/indexing.html#returning-a-view-versus-a-copy\n",
      "  cases[\"NonCompliance\"]=cases[\"NonCompliance\"].astype(int)\n"
     ]
    },
    {
     "name": "stdout",
     "output_type": "stream",
     "text": [
      "974\n",
      "Current avg time:297.2115206718445\n",
      "Train time: 0.0005015134811401367\n",
      "971\n"
     ]
    },
    {
     "name": "stderr",
     "output_type": "stream",
     "text": [
      "<ipython-input-6-d90cac3f0bbc>:56: FutureWarning: Passing a negative integer is deprecated in version 1.0 and will not be supported in future version. Instead, use None to not limit the column width.\n",
      "  pd.set_option('display.max_colwidth', -1)\n",
      "<ipython-input-6-d90cac3f0bbc>:61: SettingWithCopyWarning: \n",
      "A value is trying to be set on a copy of a slice from a DataFrame.\n",
      "Try using .loc[row_indexer,col_indexer] = value instead\n",
      "\n",
      "See the caveats in the documentation: https://pandas.pydata.org/pandas-docs/stable/user_guide/indexing.html#returning-a-view-versus-a-copy\n",
      "  cases[\"NonCompliance\"]=cases[\"NonCompliance\"].astype(int)\n"
     ]
    },
    {
     "name": "stdout",
     "output_type": "stream",
     "text": [
      "Current avg time:310.0922636985779\n",
      "Train time: 0.00033434232076009113\n",
      "980\n"
     ]
    },
    {
     "name": "stderr",
     "output_type": "stream",
     "text": [
      "<ipython-input-6-d90cac3f0bbc>:56: FutureWarning: Passing a negative integer is deprecated in version 1.0 and will not be supported in future version. Instead, use None to not limit the column width.\n",
      "  pd.set_option('display.max_colwidth', -1)\n",
      "<ipython-input-6-d90cac3f0bbc>:61: SettingWithCopyWarning: \n",
      "A value is trying to be set on a copy of a slice from a DataFrame.\n",
      "Try using .loc[row_indexer,col_indexer] = value instead\n",
      "\n",
      "See the caveats in the documentation: https://pandas.pydata.org/pandas-docs/stable/user_guide/indexing.html#returning-a-view-versus-a-copy\n",
      "  cases[\"NonCompliance\"]=cases[\"NonCompliance\"].astype(int)\n"
     ]
    },
    {
     "name": "stdout",
     "output_type": "stream",
     "text": [
      "Current avg time:312.328817208608\n",
      "Train time: 0.00025075674057006836\n",
      "966\n"
     ]
    },
    {
     "name": "stderr",
     "output_type": "stream",
     "text": [
      "<ipython-input-6-d90cac3f0bbc>:56: FutureWarning: Passing a negative integer is deprecated in version 1.0 and will not be supported in future version. Instead, use None to not limit the column width.\n",
      "  pd.set_option('display.max_colwidth', -1)\n",
      "<ipython-input-6-d90cac3f0bbc>:61: SettingWithCopyWarning: \n",
      "A value is trying to be set on a copy of a slice from a DataFrame.\n",
      "Try using .loc[row_indexer,col_indexer] = value instead\n",
      "\n",
      "See the caveats in the documentation: https://pandas.pydata.org/pandas-docs/stable/user_guide/indexing.html#returning-a-view-versus-a-copy\n",
      "  cases[\"NonCompliance\"]=cases[\"NonCompliance\"].astype(int)\n"
     ]
    },
    {
     "name": "stdout",
     "output_type": "stream",
     "text": [
      "Current avg time:311.21063297986984\n",
      "Train time: 0.00020060539245605468\n",
      "970\n"
     ]
    },
    {
     "name": "stderr",
     "output_type": "stream",
     "text": [
      "<ipython-input-6-d90cac3f0bbc>:56: FutureWarning: Passing a negative integer is deprecated in version 1.0 and will not be supported in future version. Instead, use None to not limit the column width.\n",
      "  pd.set_option('display.max_colwidth', -1)\n",
      "<ipython-input-6-d90cac3f0bbc>:61: SettingWithCopyWarning: \n",
      "A value is trying to be set on a copy of a slice from a DataFrame.\n",
      "Try using .loc[row_indexer,col_indexer] = value instead\n",
      "\n",
      "See the caveats in the documentation: https://pandas.pydata.org/pandas-docs/stable/user_guide/indexing.html#returning-a-view-versus-a-copy\n",
      "  cases[\"NonCompliance\"]=cases[\"NonCompliance\"].astype(int)\n"
     ]
    },
    {
     "name": "stdout",
     "output_type": "stream",
     "text": [
      "Current avg time:309.9544084072113\n",
      "Train time: 0.00016717116038004556\n",
      "984\n"
     ]
    },
    {
     "name": "stderr",
     "output_type": "stream",
     "text": [
      "<ipython-input-6-d90cac3f0bbc>:56: FutureWarning: Passing a negative integer is deprecated in version 1.0 and will not be supported in future version. Instead, use None to not limit the column width.\n",
      "  pd.set_option('display.max_colwidth', -1)\n",
      "<ipython-input-6-d90cac3f0bbc>:61: SettingWithCopyWarning: \n",
      "A value is trying to be set on a copy of a slice from a DataFrame.\n",
      "Try using .loc[row_indexer,col_indexer] = value instead\n",
      "\n",
      "See the caveats in the documentation: https://pandas.pydata.org/pandas-docs/stable/user_guide/indexing.html#returning-a-view-versus-a-copy\n",
      "  cases[\"NonCompliance\"]=cases[\"NonCompliance\"].astype(int)\n"
     ]
    },
    {
     "name": "stdout",
     "output_type": "stream",
     "text": [
      "Current avg time:309.0442586342494\n",
      "Train time: 0.00014328956604003906\n",
      "955\n"
     ]
    },
    {
     "name": "stderr",
     "output_type": "stream",
     "text": [
      "<ipython-input-6-d90cac3f0bbc>:56: FutureWarning: Passing a negative integer is deprecated in version 1.0 and will not be supported in future version. Instead, use None to not limit the column width.\n",
      "  pd.set_option('display.max_colwidth', -1)\n",
      "<ipython-input-6-d90cac3f0bbc>:61: SettingWithCopyWarning: \n",
      "A value is trying to be set on a copy of a slice from a DataFrame.\n",
      "Try using .loc[row_indexer,col_indexer] = value instead\n",
      "\n",
      "See the caveats in the documentation: https://pandas.pydata.org/pandas-docs/stable/user_guide/indexing.html#returning-a-view-versus-a-copy\n",
      "  cases[\"NonCompliance\"]=cases[\"NonCompliance\"].astype(int)\n"
     ]
    },
    {
     "name": "stdout",
     "output_type": "stream",
     "text": [
      "Current avg time:308.64940697806225\n",
      "Train time: 0.00037544965744018555\n",
      "971\n"
     ]
    },
    {
     "name": "stderr",
     "output_type": "stream",
     "text": [
      "<ipython-input-6-d90cac3f0bbc>:56: FutureWarning: Passing a negative integer is deprecated in version 1.0 and will not be supported in future version. Instead, use None to not limit the column width.\n",
      "  pd.set_option('display.max_colwidth', -1)\n",
      "<ipython-input-6-d90cac3f0bbc>:61: SettingWithCopyWarning: \n",
      "A value is trying to be set on a copy of a slice from a DataFrame.\n",
      "Try using .loc[row_indexer,col_indexer] = value instead\n",
      "\n",
      "See the caveats in the documentation: https://pandas.pydata.org/pandas-docs/stable/user_guide/indexing.html#returning-a-view-versus-a-copy\n",
      "  cases[\"NonCompliance\"]=cases[\"NonCompliance\"].astype(int)\n"
     ]
    },
    {
     "name": "stdout",
     "output_type": "stream",
     "text": [
      "Current avg time:306.0137441456318\n",
      "\n",
      "Average Accuracy: 0.3663422107543029\n",
      "\n",
      "Average Prec: 0.17638049179838536\n",
      "\n",
      "Average Rec: 0.5916204549347978\n",
      "\n",
      "Average Precgt: 0.1768967810278069\n"
     ]
    }
   ],
   "source": [
    "#Control point is synonymous with checklist item\n",
    "initCBCopy=list();\n",
    "currentCBCopy=initCBCopy\n",
    "readData()\n",
    "timetotal=0\n",
    "traintime=0\n",
    "precctot=0\n",
    "accctot=0\n",
    "preccgttot=0\n",
    "recctot=0\n",
    "\n",
    "fh2=open(\"Log_\" + \"ORGChecklistsTest\"+ '.txt', 'w+')\n",
    "for ik in range(0,8):\n",
    "    \n",
    "    start_time = time.time()\n",
    "    if len(initCBCopy)==0:\n",
    "        fillCaseBase(ik)\n",
    "        initCBCopy=casebase\n",
    "        currentCBCopy=initCBCopy\n",
    "    else:\n",
    "        restoreOriginalCaseBase(ik)\n",
    "        initCBCopy=casebase\n",
    "        currentCBCopy=initCBCopy\n",
    "    traintime=traintime+(time.time()-start_time)\n",
    "    print(\"Train time: \"+str(traintime/(ik+1)))\n",
    "    noncompliance=0 #true positive(gt)\n",
    "    controlpoints=0 #predicted positive(gt)\n",
    "    noncompliancengt=0 #true positive (ngt)\n",
    "    controlpointsngt=0#predicted positive (ngt)\n",
    "    truepositiveval=0\n",
    "    truepositive=0\n",
    "    falsepositivegt=0\n",
    "    falsepositivengt=0\n",
    "    precisionval=0\n",
    "    recallval=0\n",
    "    accuracyval=0\n",
    "    precision=0\n",
    "    precisiongt=0\n",
    "    lengthprecgt=0\n",
    "    recall=0\n",
    "    accuracy=0\n",
    "    lengthprec=0.00001\n",
    "    lengthvalprec=0\n",
    "    lengthrec=0.00001\n",
    "    lengthvalrec=0\n",
    "    lengthacc=0.00001\n",
    "    lengthvalacc=0\n",
    "    truenegative=0\n",
    "    falsenegative=0\n",
    "    similarity=0\n",
    "    counter=0\n",
    "    Kcp=15\n",
    "    pd.set_option('display.max_rows', None)\n",
    "    pd.set_option('display.max_columns', None)\n",
    "    pd.set_option('display.width', None)\n",
    "    pd.set_option('display.max_colwidth', -1)\n",
    "    noncompliantInspection=0\n",
    "    numberofOverlappingControlpoints=0\n",
    "    inspections=casebase.drop_duplicates(subset = [\"InspectionId\"])\n",
    "    cases=casebase\n",
    "    cases[\"NonCompliance\"]=cases[\"NonCompliance\"].astype(int)\n",
    "    casestest=len(cases.drop_duplicates(subset = [\"ControlPointText\"]))\n",
    "    cpCases=list()\n",
    "    negatives=list()\n",
    "    cltotallen=0\n",
    "    inspectionstot=0\n",
    "    precchecklists=0\n",
    "    recchecklists=0\n",
    "    accchecklists=0\n",
    "    precchecklistsval=0\n",
    "    recchecklistsval=0\n",
    "    accchecklistsval=0\n",
    "    print(casestest)\n",
    "    for ind, case in inspections.iterrows():\n",
    "       \n",
    "        inspectionstot+=1\n",
    "        uniquechecklistlengthval=0\n",
    "        cpCases=list()\n",
    "        counter+=1\n",
    "        if counter>500:\n",
    "            counter=0\n",
    "\n",
    "\n",
    "            \n",
    "        r=0#Stop variable to ensure at least 10 cases are selected for each inspection (case)\n",
    "        k=500#Finding the Top K cases\n",
    "        \n",
    "        #Existing checklists are retrieved via their inspectionId\n",
    "        existingChecklist=cases[cases['InspectionId']==case['InspectionId']]#Retrieve the existing checklist\n",
    "        clck=cases[cases[\"IndustrySubgroupCode\"].astype(float)==float(case[\"IndustrySubgroupCode\"])]\n",
    "        clck=clck[clck[\"MunicipalityNumber\"].astype(int)==int(case[\"MunicipalityNumber\"])]\n",
    "        clck[\"NonCompliance\"]=clck[\"NonCompliance\"].astype(float)\n",
    "        negatives=clck\n",
    "        if len(clck)>0:\n",
    "            caseAvgNoncompliancePrControlpoint=clck.groupby([\"ControlPointText\"],as_index=False).mean()\n",
    "\n",
    "        while r==0:\n",
    "            checklist=existingChecklist#Just using the existing checklist\n",
    "\n",
    "            uniqueChecklist=checklist.drop_duplicates(subset = [\"ControlPointText\"])#Find all unique items by removing duplicates\n",
    "\n",
    "            if len(uniqueChecklist)>(0):#Just checking to make sure that the retrieved checklist is not empty\n",
    "                truepositive=0\n",
    "                truepositiveval=0\n",
    "                r=1#Stops the while loop since 10 unique items are found\n",
    " \n",
    "                precpercl=0\n",
    "                lengthorgcl=0\n",
    "                for ind2, generatedChecklistControlpoint in uniqueChecklist.iterrows():#Find overlap between the existing and new generated checklist\n",
    "                    cltotallen+=1\n",
    "                    negatives=negatives[negatives[\"ControlPointText\"]!=generatedChecklistControlpoint[\"ControlPointText\"]]#This is wrong. Negatives need to be outside the whole checklist\n",
    "                    excp=existingChecklist[existingChecklist[\"ControlPointText\"]==generatedChecklistControlpoint[\"ControlPointText\"]]\n",
    "                    if len(excp)>0:\n",
    "                        numberofOverlappingControlpoints+=1 \n",
    "                        precpercl+=((excp[\"NonCompliance\"].sum())/len(excp[\"NonCompliance\"]))\n",
    "                        lengthorgcl+=1\n",
    "                        controlpoints+=1#matchlen\n",
    "                        \n",
    "\n",
    "                    caseAvgNoncompliancePrControlpoint2=caseAvgNoncompliancePrControlpoint[caseAvgNoncompliancePrControlpoint[\"ControlPointText\"]==generatedChecklistControlpoint[\"ControlPointText\"]]\n",
    "                    \n",
    "                    summ2=caseAvgNoncompliancePrControlpoint2[\"NonCompliance\"].sum() \n",
    "                    if len(caseAvgNoncompliancePrControlpoint2[\"NonCompliance\"])>0:\n",
    "                        noncompliance+=(summ2/len(caseAvgNoncompliancePrControlpoint2[\"NonCompliance\"]))\n",
    "                        truepositiveval+=(summ2/len(caseAvgNoncompliancePrControlpoint2[\"NonCompliance\"]))\n",
    "                    \n",
    "                    matchlen=len(caseAvgNoncompliancePrControlpoint2[\"NonCompliance\"])\n",
    "                    if matchlen>1:\n",
    "                        print(caseAvgNoncompliancePrControlpoint2[\"NonCompliance\"])\n",
    "                    controlpointsngt+=1\n",
    "                    falsepositivegt+=(matchlen-summ2)\n",
    "                    if matchlen>0:\n",
    "                        precisionval+=(summ2/matchlen)\n",
    "                        lengthvalprec+=1\n",
    "                        uniquechecklistlengthval+=1\n",
    "                    summ3=0\n",
    "                    if matchlen==0:#if validation record of checklist item does not exist\n",
    "                        cpCases=cases[cases[\"IndustrySubgroupCode\"].astype(float)==float(generatedChecklistControlpoint[\"IndustrySubgroupCode\"])]\n",
    "                        cpCases=cpCases[cpCases[\"MunicipalityNumber\"].astype(int)==int(generatedChecklistControlpoint[\"MunicipalityNumber\"])]\n",
    "                        cpCases=cpCases[cpCases[\"ControlPointText\"]==generatedChecklistControlpoint[\"ControlPointText\"]]\n",
    "                        cpCases[\"NonCompliance\"]=cpCases[\"NonCompliance\"].astype(float)\n",
    "                        summ3=cpCases[\"NonCompliance\"].sum()\n",
    "                        \n",
    "                        \n",
    "                        falsepositivengt+=(len(cpCases[\"NonCompliance\"])-summ3)\n",
    "                        if len(cpCases[\"NonCompliance\"])>0:\n",
    "                            noncompliancengt+=(summ3/len(cpCases[\"NonCompliance\"]))\n",
    "                            truepositive+=(summ3/len(cpCases[\"NonCompliance\"]))\n",
    "                            precision+=(summ3/len(cpCases[\"NonCompliance\"]))\n",
    "                            lengthprec+=1\n",
    "                if lengthorgcl>0:\n",
    "                    precisiongt+=(precpercl/lengthorgcl)\n",
    "                    lengthprecgt+=1      \n",
    "\n",
    "                #Calculate statistics on checklists level\n",
    "                uniquenegatives=len(negatives.drop_duplicates(subset = [\"ControlPointText\"]))\n",
    "                negativecpy=negatives.copy()\n",
    "                negativecpy[\"NonCompliance\"]=negativecpy[\"NonCompliance\"].astype(float)\n",
    "                groupedby=negativecpy.groupby([\"ControlPointText\"],as_index=False).count()\n",
    "                groupedbys=negativecpy.groupby([\"ControlPointText\"],as_index=False).sum()\n",
    "                groupedby[\"NonCompliance\"]=groupedbys[\"NonCompliance\"]/groupedby[\"NonCompliance\"]\n",
    "                uniquecalcnegatives=groupedby.drop_duplicates(subset = [\"ControlPointText\"])\n",
    "                noncompliancenegatives=uniquecalcnegatives[\"NonCompliance\"].sum()\n",
    "\n",
    "                falsenegativeelement=0\n",
    "                if uniquenegatives>0:\n",
    "                    falsenegativeelement=noncompliancenegatives/uniquenegatives #To avoid selection bias effects\n",
    "                truenegativeelement=1-falsenegativeelement\n",
    "                \n",
    "                truepositivesprchecklistval=(truepositiveval)\n",
    "                falsepositivesprchecklistval=(uniquechecklistlengthval-truepositivesprchecklistval)\n",
    "                \n",
    "                truepositivesprchecklist=(truepositive+truepositiveval)\n",
    "                falsepositivesprchecklist=(len(uniqueChecklist)-(truepositive+truepositiveval))\n",
    "                truenegativesprchecklist=truenegativeelement*uniquenegatives\n",
    "                falsenegativesprchecklist=falsenegativeelement*uniquenegatives\n",
    "                \n",
    "                precprchecklist=truepositivesprchecklist/len(uniqueChecklist)\n",
    "                precchecklists+=precprchecklist\n",
    "                #print(\"prec: \"+str(precprchecklist))\n",
    "                precprchecklistval=0\n",
    "                if uniquechecklistlengthval>0:\n",
    "                    precprchecklistval=truepositivesprchecklistval/uniquechecklistlengthval\n",
    "                precchecklistsval+=precprchecklistval\n",
    "                #print(\"prec(val): \"+str(precprchecklistval))\n",
    "                recprchecklist=0\n",
    "                if (truepositivesprchecklist+falsenegativesprchecklist)>0:\n",
    "                    recprchecklist=truepositivesprchecklist/(truepositivesprchecklist+falsenegativesprchecklist)\n",
    "                recchecklists+=recprchecklist\n",
    "               # print(\"rec: \"+str(recprchecklist))\n",
    "                recprchecklistval=0\n",
    "                if (truepositivesprchecklistval+falsenegativesprchecklist)>0:\n",
    "                    recprchecklistval=truepositivesprchecklistval/(truepositivesprchecklistval+falsenegativesprchecklist)\n",
    "                recchecklistsval+=recprchecklistval\n",
    "                #print(\"rec(val): \"+str(recprchecklistval))\n",
    "                accprchecklist=0\n",
    "                if (len(uniqueChecklist)+uniquenegatives)>0:\n",
    "                    accprchecklist=(truepositivesprchecklist+truenegativesprchecklist)/(len(uniqueChecklist)+uniquenegatives)\n",
    "                accchecklists+=accprchecklist\n",
    "                #print(\"acc: \"+str(accprchecklist))\n",
    "                accprchecklistval=0\n",
    "                if (uniquechecklistlengthval+uniquenegatives)>0:\n",
    "                    accprchecklistval=(truepositivesprchecklistval+truenegativesprchecklist)/(uniquechecklistlengthval+uniquenegatives)\n",
    "                accchecklistsval+=accprchecklistval\n",
    "                #print(\"acc(val): \"+str(accprchecklistval))\n",
    "                              \n",
    "                #|true positives for each checklist|=sum(true positive elements in checklist)\n",
    "                #|false positives for each checklist|=sum(false positive elements in checklist)\n",
    "                #|true negatives for each checklist|=|true negative element|*|unique items(2)|\n",
    "                #|false negatives for each checklist|=|false negative element|*|unique items(2)|\n",
    "                #prec pr checklist\n",
    "                #rec pr checklist\n",
    "                #acc pr checklist\n",
    "                        \n",
    "            k+=500 #Increment k while there are less then 10 unique items\n",
    "    if inspectionstot>0:\n",
    "        precctot+=precchecklists/inspectionstot\n",
    "        accctot+=accchecklists/inspectionstot\n",
    "        preccgttot+=precisiongt/lengthprecgt\n",
    "        recctot+=recchecklists/inspectionstot\n",
    "       \n",
    "    timetotal=timetotal+(time.time()-start_time)\n",
    "    print(\"Current avg time:\"+ str(timetotal/(ik+1)))\n",
    "    fh2.write(\"Current avg time:\"+ str(timetotal/(ik+1)))\n",
    "\n",
    "\n",
    "\n",
    "#The average accuracy, precision and recall scores from the cross-validation. These numbers are used in the paper. \n",
    "print(\"\\nAverage Accuracy: \"+str(accctot/8))\n",
    "print(\"\\nAverage Prec: \"+str(precctot/8))\n",
    "print(\"\\nAverage Rec: \"+str(recctot/8))\n",
    "print(\"\\nAverage Precgt: \"+str(preccgttot/8))\n",
    "fh2.write(\"\\nAverage Accuracy: \"+str(accctot/8))\n",
    "fh2.write(\"\\nAverage Prec: \"+str(precctot/8))\n",
    "fh2.write(\"\\nAverage Rec: \"+str(recctot/8))\n",
    "fh2.write(\"\\nAverage Precgt: \"+str(preccgttot/8))\n",
    "fh2.close()"
   ]
  },
  {
   "cell_type": "code",
   "execution_count": null,
   "metadata": {},
   "outputs": [],
   "source": []
  }
 ],
 "metadata": {
  "kernelspec": {
   "display_name": "Python 3",
   "language": "python",
   "name": "python3"
  },
  "language_info": {
   "codemirror_mode": {
    "name": "ipython",
    "version": 3
   },
   "file_extension": ".py",
   "mimetype": "text/x-python",
   "name": "python",
   "nbconvert_exporter": "python",
   "pygments_lexer": "ipython3",
   "version": "3.8.8"
  }
 },
 "nbformat": 4,
 "nbformat_minor": 2
}
